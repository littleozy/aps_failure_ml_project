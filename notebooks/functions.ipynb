{
 "cells": [
  {
   "cell_type": "code",
   "execution_count": 1,
   "metadata": {},
   "outputs": [],
   "source": [
    "import pandas as pd\n",
    "import numpy as np\n",
    "\n",
    "from sklearn import tree\n",
    "from sklearn.impute import SimpleImputer\n",
    "from sklearn.preprocessing import MinMaxScaler\n",
    "from sklearn.preprocessing import StandardScaler\n",
    "from sklearn.feature_selection import RFE\n",
    "from sklearn.ensemble import RandomForestClassifier\n",
    "    \n",
    "from imblearn.under_sampling import RandomUnderSampler\n",
    "from imblearn.over_sampling import SMOTE\n",
    "from imblearn.pipeline import Pipeline"
   ]
  },
  {
   "cell_type": "code",
   "execution_count": 2,
   "metadata": {},
   "outputs": [],
   "source": [
    "def cost(y_true,y_pred ,positive_label = 'pos', negative_label='neg'):\n",
    "    \n",
    "    data=pd.concat([y_true,y_pred],axis=1)\n",
    "    wrong_negative_labels = 0\n",
    "    wrong_negative_labels_cost =0\n",
    "    \n",
    "    wrong_positive_labels = 0\n",
    "    wrong_positive_labels_cost = 0\n",
    "    \n",
    "    for i,n in data.iterrows():        \n",
    "        if data[data.columns[1]][i] != data[data.columns[0]][i]:\n",
    "            \n",
    "            if data[data.columns[1]][i] == 'pos':\n",
    "                wrong_positive_labels = wrong_positive_labels+1\n",
    "                wrong_positive_labels_cost = wrong_positive_labels_cost+10\n",
    "                \n",
    "            if data[data.columns[1]][i] == 'neg':\n",
    "                wrong_negative_labels = wrong_negative_labels+1\n",
    "                wrong_negative_labels_cost = wrong_negative_labels_cost+ 500\n",
    "            \n",
    "    tot_cost = wrong_negative_labels_cost+wrong_positive_labels_cost\n",
    "\n",
    "    # print('wrongly labelled positives =', wrong_positive_labels)\n",
    "    # print('wrongly labelled negatives =', wrong_negative_labels)  \n",
    "    # print('total cost of wrongly labelling =' , tot_cost)\n",
    "    \n",
    "    return tot_cost\n",
    "    "
   ]
  },
  {
   "cell_type": "code",
   "execution_count": 3,
   "metadata": {},
   "outputs": [],
   "source": [
    "def preprocess(df):\n",
    "\n",
    "    X = df.drop('class',axis=1)\n",
    "\n",
    "    X.replace('na',np.nan,inplace=True)\n",
    "    X = X[X.columns].apply(pd.to_numeric, errors='coerce')\n",
    "\n",
    "    return X"
   ]
  },
  {
   "cell_type": "code",
   "execution_count": 4,
   "metadata": {},
   "outputs": [],
   "source": [
    "def impute(df, strat = 'mean'):\n",
    "    \n",
    "    X = df\n",
    "    imp = SimpleImputer(missing_values=np.nan, strategy=strat)\n",
    "    X = pd.DataFrame(imp.fit_transform(X),columns=X.columns)\n",
    "    return X\n"
   ]
  },
  {
   "cell_type": "code",
   "execution_count": 5,
   "metadata": {},
   "outputs": [],
   "source": [
    "def get_top(df,y,n):\n",
    "    \n",
    "    # Use RFE algorithm from sklearn to perform feature selection\n",
    "    feature_select = RFE(estimator=RandomForestClassifier(n_estimators=150,max_depth=5,random_state=1),\n",
    "                         n_features_to_select=n,\n",
    "                         verbose=5)\n",
    "    feature_select.fit(df,y)\n",
    "\n",
    "    # support_ gives an array of True/False for each feature where True signifies that the feature is selected\n",
    "    top_f = [ c for i,c in enumerate(df.columns.tolist()) if feature_select.support_[i] ]   \n",
    "    return top_f"
   ]
  },
  {
   "cell_type": "code",
   "execution_count": 6,
   "metadata": {},
   "outputs": [],
   "source": [
    "def balance_data(df,label):\n",
    "\n",
    "    over = SMOTE(sampling_strategy=0.3)\n",
    "    under = RandomUnderSampler(sampling_strategy=0.5)\n",
    "    steps = [('o', over), ('u', under)]\n",
    "    pipeline = Pipeline(steps=steps)\n",
    "    df, label = pipeline.fit_resample(df, label)\n",
    "    return df, label"
   ]
  },
  {
   "cell_type": "code",
   "execution_count": 7,
   "metadata": {},
   "outputs": [],
   "source": [
    "def scale_data_minmax(df):\n",
    "\n",
    "    min_max = MinMaxScaler()\n",
    "    df = pd.DataFrame( data = min_max.fit_transform(df) , columns = df.columns )\n",
    "    return df , min_max\n"
   ]
  },
  {
   "cell_type": "code",
   "execution_count": 8,
   "metadata": {},
   "outputs": [],
   "source": [
    "def scale_data_standard(df):\n",
    "\n",
    "    standard_scale = StandardScaler()\n",
    "    df = pd.DataFrame( data = standard_scale.fit_transform(df) , columns = df.columns )\n",
    "    return df , standard_scale\n",
    "    "
   ]
  },
  {
   "cell_type": "code",
   "execution_count": 9,
   "metadata": {},
   "outputs": [],
   "source": [
    "def LGBM(X_train,y_train,X_test,y_test):\n",
    "    \n",
    "    import lightgbm as lgb\n",
    "    from sklearn import metrics\n",
    "\n",
    "    clf = lgb.LGBMClassifier()\n",
    "    clf.fit(X_train,y_train)\n",
    "    y_pred = clf.predict(X_test)\n",
    "    y_pred = pd.DataFrame(y_pred)\n",
    "    tot_cost = cost(y_test,y_pred)\n",
    "\n",
    "    return tot_cost"
   ]
  },
  {
   "cell_type": "code",
   "execution_count": 10,
   "metadata": {},
   "outputs": [],
   "source": [
    "def gradient(X_train,y_train,X_test,y_test):\n",
    "\n",
    "    from sklearn.ensemble import GradientBoostingClassifier\n",
    "    clf = GradientBoostingClassifier()\n",
    "    clf.fit(X_train,y_train)\n",
    "    y_pred = clf.predict(X_test)\n",
    "    y_pred = pd.DataFrame(y_pred)\n",
    "    tot_cost = cost(y_test,y_pred)\n",
    "\n",
    "    return tot_cost"
   ]
  }
 ],
 "metadata": {
  "kernelspec": {
   "display_name": "Python 3.9.5 64-bit",
   "language": "python",
   "name": "python3"
  },
  "language_info": {
   "codemirror_mode": {
    "name": "ipython",
    "version": 3
   },
   "file_extension": ".py",
   "mimetype": "text/x-python",
   "name": "python",
   "nbconvert_exporter": "python",
   "pygments_lexer": "ipython3",
   "version": "3.9.1"
  },
  "vscode": {
   "interpreter": {
    "hash": "d51f260eded27f650258a4de4708081dac957813be8f781887b52b18819514a4"
   }
  }
 },
 "nbformat": 4,
 "nbformat_minor": 4
}
